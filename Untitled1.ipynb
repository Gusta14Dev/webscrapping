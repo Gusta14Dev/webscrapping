{
  "nbformat": 4,
  "nbformat_minor": 0,
  "metadata": {
    "colab": {
      "name": "Untitled1.ipynb",
      "provenance": [],
      "collapsed_sections": [],
      "authorship_tag": "ABX9TyMn2Z0b/Yg3Y7rJWWJPgETE",
      "include_colab_link": true
    },
    "kernelspec": {
      "name": "python3",
      "display_name": "Python 3"
    }
  },
  "cells": [
    {
      "cell_type": "markdown",
      "metadata": {
        "id": "view-in-github",
        "colab_type": "text"
      },
      "source": [
        "<a href=\"https://colab.research.google.com/github/gusta17/webscrapping/blob/main/Untitled1.ipynb\" target=\"_parent\"><img src=\"https://colab.research.google.com/assets/colab-badge.svg\" alt=\"Open In Colab\"/></a>"
      ]
    },
    {
      "cell_type": "code",
      "metadata": {
        "id": "bOaVhFH0sI5H"
      },
      "source": [
        "!pip install beautifulsoup4"
      ],
      "execution_count": null,
      "outputs": []
    },
    {
      "cell_type": "code",
      "metadata": {
        "id": "8-5JpiVkxw3Q"
      },
      "source": [
        "import requests\n",
        "import pandas as pd\n",
        "from bs4 import BeautifulSoup"
      ],
      "execution_count": null,
      "outputs": []
    },
    {
      "cell_type": "code",
      "metadata": {
        "id": "g-kW5-vHyowg"
      },
      "source": [
        "url = 'https://www.cpubenchmark.net/socketType.html'"
      ],
      "execution_count": null,
      "outputs": []
    },
    {
      "cell_type": "code",
      "metadata": {
        "id": "Geatae0XIm-D"
      },
      "source": [
        ""
      ],
      "execution_count": null,
      "outputs": []
    },
    {
      "cell_type": "code",
      "metadata": {
        "id": "zYvdRLCWz2fB"
      },
      "source": [
        "cpubenchmark = requests.get(url)"
      ],
      "execution_count": null,
      "outputs": []
    },
    {
      "cell_type": "code",
      "metadata": {
        "id": "9_ZyF4eEwIuL"
      },
      "source": [
        "soup = BeautifulSoup(cpubenchmark.text, 'html.parser')"
      ],
      "execution_count": null,
      "outputs": []
    },
    {
      "cell_type": "code",
      "metadata": {
        "id": "wi7oy2SDyv7g"
      },
      "source": [
        "processadores = soup.select('#id10 .chart .chart_body .chartlist li')\n",
        "nome = []\n",
        "link = []\n",
        "benchmark = []"
      ],
      "execution_count": null,
      "outputs": []
    },
    {
      "cell_type": "code",
      "metadata": {
        "id": "cPEaUiA9QQcf"
      },
      "source": [
        "for processador in processadores:\n",
        "    link.append('https://www.cpubenchmark.net/' + processador.find('a', class_='name').get('href'))\n",
        "    nome.append(processador.find('span', class_='prdname').get_text())\n",
        "    benchmark.append(processador.find('span', class_='count').get_text())"
      ],
      "execution_count": null,
      "outputs": []
    },
    {
      "cell_type": "code",
      "metadata": {
        "id": "HnmWzfeccqVp",
        "outputId": "e2c487c3-8603-45b0-8de7-b1823ebfb6b1",
        "colab": {
          "base_uri": "https://localhost:8080/",
          "height": 419
        }
      },
      "source": [
        "df = pd.DataFrame({\n",
        "    \"Nome\" : nome,\n",
        "    \"Link\" : link,\n",
        "    \"Benchmark\" : benchmark\n",
        "    })\n",
        "\n",
        "df"
      ],
      "execution_count": null,
      "outputs": [
        {
          "output_type": "execute_result",
          "data": {
            "text/html": [
              "<div>\n",
              "<style scoped>\n",
              "    .dataframe tbody tr th:only-of-type {\n",
              "        vertical-align: middle;\n",
              "    }\n",
              "\n",
              "    .dataframe tbody tr th {\n",
              "        vertical-align: top;\n",
              "    }\n",
              "\n",
              "    .dataframe thead th {\n",
              "        text-align: right;\n",
              "    }\n",
              "</style>\n",
              "<table border=\"1\" class=\"dataframe\">\n",
              "  <thead>\n",
              "    <tr style=\"text-align: right;\">\n",
              "      <th></th>\n",
              "      <th>Nome</th>\n",
              "      <th>Link</th>\n",
              "      <th>Benchmark</th>\n",
              "    </tr>\n",
              "  </thead>\n",
              "  <tbody>\n",
              "    <tr>\n",
              "      <th>0</th>\n",
              "      <td>Intel Xeon E-2278GE @ 3.30GHz</td>\n",
              "      <td>https://www.cpubenchmark.net/cpu.php?cpu=Intel...</td>\n",
              "      <td>17,210</td>\n",
              "    </tr>\n",
              "    <tr>\n",
              "      <th>1</th>\n",
              "      <td>Intel Core i7-7700K @ 4.20GHz</td>\n",
              "      <td>https://www.cpubenchmark.net/cpu.php?cpu=Intel...</td>\n",
              "      <td>9,737</td>\n",
              "    </tr>\n",
              "    <tr>\n",
              "      <th>2</th>\n",
              "      <td>Intel Xeon E3-1285 v6 @ 4.10GHz</td>\n",
              "      <td>https://www.cpubenchmark.net/cpu.php?cpu=Intel...</td>\n",
              "      <td>9,313</td>\n",
              "    </tr>\n",
              "    <tr>\n",
              "      <th>3</th>\n",
              "      <td>Intel Core i5-9500TE @ 2.20GHz</td>\n",
              "      <td>https://www.cpubenchmark.net/cpu.php?cpu=Intel...</td>\n",
              "      <td>9,212</td>\n",
              "    </tr>\n",
              "    <tr>\n",
              "      <th>4</th>\n",
              "      <td>Intel Xeon E3-1280 v6 @ 3.90GHz</td>\n",
              "      <td>https://www.cpubenchmark.net/cpu.php?cpu=Intel...</td>\n",
              "      <td>9,076</td>\n",
              "    </tr>\n",
              "    <tr>\n",
              "      <th>...</th>\n",
              "      <td>...</td>\n",
              "      <td>...</td>\n",
              "      <td>...</td>\n",
              "    </tr>\n",
              "    <tr>\n",
              "      <th>79</th>\n",
              "      <td>Intel Celeron G3900 @ 2.80GHz</td>\n",
              "      <td>https://www.cpubenchmark.net/cpu.php?cpu=Intel...</td>\n",
              "      <td>2,218</td>\n",
              "    </tr>\n",
              "    <tr>\n",
              "      <th>80</th>\n",
              "      <td>Intel Pentium G4400TE @ 2.40GHz</td>\n",
              "      <td>https://www.cpubenchmark.net/cpu.php?cpu=Intel...</td>\n",
              "      <td>2,217</td>\n",
              "    </tr>\n",
              "    <tr>\n",
              "      <th>81</th>\n",
              "      <td>Intel Celeron G3920 @ 2.90GHz</td>\n",
              "      <td>https://www.cpubenchmark.net/cpu.php?cpu=Intel...</td>\n",
              "      <td>2,181</td>\n",
              "    </tr>\n",
              "    <tr>\n",
              "      <th>82</th>\n",
              "      <td>Intel Celeron G3930T @ 2.70GHz</td>\n",
              "      <td>https://www.cpubenchmark.net/cpu.php?cpu=Intel...</td>\n",
              "      <td>2,144</td>\n",
              "    </tr>\n",
              "    <tr>\n",
              "      <th>83</th>\n",
              "      <td>Intel Celeron G3900TE @ 2.30GHz</td>\n",
              "      <td>https://www.cpubenchmark.net/cpu.php?cpu=Intel...</td>\n",
              "      <td>1,991</td>\n",
              "    </tr>\n",
              "  </tbody>\n",
              "</table>\n",
              "<p>84 rows × 3 columns</p>\n",
              "</div>"
            ],
            "text/plain": [
              "                               Nome  ... Benchmark\n",
              "0     Intel Xeon E-2278GE @ 3.30GHz  ...    17,210\n",
              "1     Intel Core i7-7700K @ 4.20GHz  ...     9,737\n",
              "2   Intel Xeon E3-1285 v6 @ 4.10GHz  ...     9,313\n",
              "3    Intel Core i5-9500TE @ 2.20GHz  ...     9,212\n",
              "4   Intel Xeon E3-1280 v6 @ 3.90GHz  ...     9,076\n",
              "..                              ...  ...       ...\n",
              "79    Intel Celeron G3900 @ 2.80GHz  ...     2,218\n",
              "80  Intel Pentium G4400TE @ 2.40GHz  ...     2,217\n",
              "81    Intel Celeron G3920 @ 2.90GHz  ...     2,181\n",
              "82   Intel Celeron G3930T @ 2.70GHz  ...     2,144\n",
              "83  Intel Celeron G3900TE @ 2.30GHz  ...     1,991\n",
              "\n",
              "[84 rows x 3 columns]"
            ]
          },
          "metadata": {
            "tags": []
          },
          "execution_count": 72
        }
      ]
    },
    {
      "cell_type": "code",
      "metadata": {
        "id": "olQc_2lkLzCD"
      },
      "source": [
        ""
      ],
      "execution_count": null,
      "outputs": []
    }
  ]
}